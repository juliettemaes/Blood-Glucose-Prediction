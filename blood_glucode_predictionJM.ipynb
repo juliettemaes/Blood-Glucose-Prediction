{
 "cells": [
  {
   "cell_type": "markdown",
   "metadata": {},
   "source": [
    "# Blood glucode prediction with 1h delay"
   ]
  },
  {
   "cell_type": "markdown",
   "metadata": {},
   "source": [
    "## Libraries"
   ]
  },
  {
   "cell_type": "code",
   "execution_count": 1,
   "metadata": {},
   "outputs": [
    {
     "name": "stderr",
     "output_type": "stream",
     "text": [
      "2024-10-21 16:52:49.828862: I tensorflow/core/util/port.cc:153] oneDNN custom operations are on. You may see slightly different numerical results due to floating-point round-off errors from different computation orders. To turn them off, set the environment variable `TF_ENABLE_ONEDNN_OPTS=0`.\n",
      "2024-10-21 16:52:49.838473: E external/local_xla/xla/stream_executor/cuda/cuda_fft.cc:485] Unable to register cuFFT factory: Attempting to register factory for plugin cuFFT when one has already been registered\n",
      "2024-10-21 16:52:49.849100: E external/local_xla/xla/stream_executor/cuda/cuda_dnn.cc:8454] Unable to register cuDNN factory: Attempting to register factory for plugin cuDNN when one has already been registered\n",
      "2024-10-21 16:52:49.852289: E external/local_xla/xla/stream_executor/cuda/cuda_blas.cc:1452] Unable to register cuBLAS factory: Attempting to register factory for plugin cuBLAS when one has already been registered\n",
      "2024-10-21 16:52:49.860779: I tensorflow/core/platform/cpu_feature_guard.cc:210] This TensorFlow binary is optimized to use available CPU instructions in performance-critical operations.\n",
      "To enable the following instructions: SSE4.1 SSE4.2 AVX AVX2 AVX_VNNI FMA, in other operations, rebuild TensorFlow with the appropriate compiler flags.\n"
     ]
    }
   ],
   "source": [
    "import numpy as np\n",
    "import matplotlib.pyplot as plt\n",
    "import os\n",
    "import pandas as pd\n",
    "from sklearn.impute import SimpleImputer \n",
    "from sklearn.model_selection import train_test_split\n",
    "from sklearn.ensemble import RandomForestRegressor\n",
    "import random as python_random\n",
    "import tensorflow as tf\n",
    "\n",
    "\n"
   ]
  },
  {
   "cell_type": "markdown",
   "metadata": {},
   "source": [
    "## Data loading"
   ]
  },
  {
   "cell_type": "code",
   "execution_count": 2,
   "metadata": {},
   "outputs": [
    {
     "name": "stdout",
     "output_type": "stream",
     "text": [
      "/home/jmaes/Documents/M2_BI/AIAO/Blood-Glucose-Prediction\n"
     ]
    }
   ],
   "source": [
    "# Get the current working directory\n",
    "cwd = os.getcwd()\n",
    "print(cwd)"
   ]
  },
  {
   "cell_type": "code",
   "execution_count": 3,
   "metadata": {},
   "outputs": [
    {
     "name": "stderr",
     "output_type": "stream",
     "text": [
      "/tmp/ipykernel_402595/468345928.py:2: DtypeWarning: Columns (435,436,437,438,439,440,441,442,443,444,445,446,447,448,449,450,451,452,453,454,455,456,457,458,459,460,461,462,463,464,465,466,467,468,469,470,471,472,473,474,475,476,477,478,479,480,481,482,483,484,485,486,487,488,489,490,491,492,493,494,495,496,497,498,499,500,501,502,503,504,505,506) have mixed types. Specify dtype option on import or set low_memory=False.\n",
      "  train = pd.read_csv('data/train.csv')\n"
     ]
    }
   ],
   "source": [
    "# load the training data\n",
    "train = pd.read_csv('data/train.csv')\n",
    "test = pd.read_csv(\"data/test.csv\")\n"
   ]
  },
  {
   "cell_type": "code",
   "execution_count": 4,
   "metadata": {},
   "outputs": [
    {
     "name": "stdout",
     "output_type": "stream",
     "text": [
      "Size of the data : \n",
      "(177024, 508)\n",
      "column nnames : \n",
      "Index(['id', 'p_num', 'time', 'bg-5:55', 'bg-5:50', 'bg-5:45', 'bg-5:40',\n",
      "       'bg-5:35', 'bg-5:30', 'bg-5:25',\n",
      "       ...\n",
      "       'activity-0:40', 'activity-0:35', 'activity-0:30', 'activity-0:25',\n",
      "       'activity-0:20', 'activity-0:15', 'activity-0:10', 'activity-0:05',\n",
      "       'activity-0:00', 'bg+1:00'],\n",
      "      dtype='object', length=508)\n",
      "data types : \n",
      "id                object\n",
      "p_num             object\n",
      "time              object\n",
      "bg-5:55          float64\n",
      "bg-5:50          float64\n",
      "                  ...   \n",
      "activity-0:15     object\n",
      "activity-0:10     object\n",
      "activity-0:05     object\n",
      "activity-0:00     object\n",
      "bg+1:00          float64\n",
      "Length: 508, dtype: object\n",
      "508\n",
      "['id' 'p_num' 'time' 'bg-5:55' 'bg-5:50' 'bg-5:45' 'bg-5:40' 'bg-5:35'\n",
      " 'bg-5:30' 'bg-5:25' 'bg-5:20' 'bg-5:15' 'bg-5:10' 'bg-5:05' 'bg-5:00'\n",
      " 'bg-4:55' 'bg-4:50' 'bg-4:45' 'bg-4:40' 'bg-4:35' 'bg-4:30' 'bg-4:25'\n",
      " 'bg-4:20' 'bg-4:15' 'bg-4:10' 'bg-4:05' 'bg-4:00' 'bg-3:55' 'bg-3:50'\n",
      " 'bg-3:45' 'bg-3:40' 'bg-3:35' 'bg-3:30' 'bg-3:25' 'bg-3:20' 'bg-3:15'\n",
      " 'bg-3:10' 'bg-3:05' 'bg-3:00' 'bg-2:55' 'bg-2:50' 'bg-2:45' 'bg-2:40'\n",
      " 'bg-2:35' 'bg-2:30' 'bg-2:25' 'bg-2:20' 'bg-2:15' 'bg-2:10' 'bg-2:05'\n",
      " 'bg-2:00' 'bg-1:55' 'bg-1:50' 'bg-1:45' 'bg-1:40' 'bg-1:35' 'bg-1:30'\n",
      " 'bg-1:25' 'bg-1:20' 'bg-1:15' 'bg-1:10' 'bg-1:05' 'bg-1:00' 'bg-0:55'\n",
      " 'bg-0:50' 'bg-0:45' 'bg-0:40' 'bg-0:35' 'bg-0:30' 'bg-0:25' 'bg-0:20'\n",
      " 'bg-0:15' 'bg-0:10' 'bg-0:05' 'bg-0:00' 'insulin-5:55' 'insulin-5:50'\n",
      " 'insulin-5:45' 'insulin-5:40' 'insulin-5:35' 'insulin-5:30'\n",
      " 'insulin-5:25' 'insulin-5:20' 'insulin-5:15' 'insulin-5:10'\n",
      " 'insulin-5:05' 'insulin-5:00' 'insulin-4:55' 'insulin-4:50'\n",
      " 'insulin-4:45' 'insulin-4:40' 'insulin-4:35' 'insulin-4:30'\n",
      " 'insulin-4:25' 'insulin-4:20' 'insulin-4:15' 'insulin-4:10'\n",
      " 'insulin-4:05' 'insulin-4:00' 'insulin-3:55' 'insulin-3:50'\n",
      " 'insulin-3:45' 'insulin-3:40' 'insulin-3:35' 'insulin-3:30'\n",
      " 'insulin-3:25' 'insulin-3:20' 'insulin-3:15' 'insulin-3:10'\n",
      " 'insulin-3:05' 'insulin-3:00' 'insulin-2:55' 'insulin-2:50'\n",
      " 'insulin-2:45' 'insulin-2:40' 'insulin-2:35' 'insulin-2:30'\n",
      " 'insulin-2:25' 'insulin-2:20' 'insulin-2:15' 'insulin-2:10'\n",
      " 'insulin-2:05' 'insulin-2:00' 'insulin-1:55' 'insulin-1:50'\n",
      " 'insulin-1:45' 'insulin-1:40' 'insulin-1:35' 'insulin-1:30'\n",
      " 'insulin-1:25' 'insulin-1:20' 'insulin-1:15' 'insulin-1:10'\n",
      " 'insulin-1:05' 'insulin-1:00' 'insulin-0:55' 'insulin-0:50'\n",
      " 'insulin-0:45' 'insulin-0:40' 'insulin-0:35' 'insulin-0:30'\n",
      " 'insulin-0:25' 'insulin-0:20' 'insulin-0:15' 'insulin-0:10'\n",
      " 'insulin-0:05' 'insulin-0:00' 'carbs-5:55' 'carbs-5:50' 'carbs-5:45'\n",
      " 'carbs-5:40' 'carbs-5:35' 'carbs-5:30' 'carbs-5:25' 'carbs-5:20'\n",
      " 'carbs-5:15' 'carbs-5:10' 'carbs-5:05' 'carbs-5:00' 'carbs-4:55'\n",
      " 'carbs-4:50' 'carbs-4:45' 'carbs-4:40' 'carbs-4:35' 'carbs-4:30'\n",
      " 'carbs-4:25' 'carbs-4:20' 'carbs-4:15' 'carbs-4:10' 'carbs-4:05'\n",
      " 'carbs-4:00' 'carbs-3:55' 'carbs-3:50' 'carbs-3:45' 'carbs-3:40'\n",
      " 'carbs-3:35' 'carbs-3:30' 'carbs-3:25' 'carbs-3:20' 'carbs-3:15'\n",
      " 'carbs-3:10' 'carbs-3:05' 'carbs-3:00' 'carbs-2:55' 'carbs-2:50'\n",
      " 'carbs-2:45' 'carbs-2:40' 'carbs-2:35' 'carbs-2:30' 'carbs-2:25'\n",
      " 'carbs-2:20' 'carbs-2:15' 'carbs-2:10' 'carbs-2:05' 'carbs-2:00'\n",
      " 'carbs-1:55' 'carbs-1:50' 'carbs-1:45' 'carbs-1:40' 'carbs-1:35'\n",
      " 'carbs-1:30' 'carbs-1:25' 'carbs-1:20' 'carbs-1:15' 'carbs-1:10'\n",
      " 'carbs-1:05' 'carbs-1:00' 'carbs-0:55' 'carbs-0:50' 'carbs-0:45'\n",
      " 'carbs-0:40' 'carbs-0:35' 'carbs-0:30' 'carbs-0:25' 'carbs-0:20'\n",
      " 'carbs-0:15' 'carbs-0:10' 'carbs-0:05' 'carbs-0:00' 'hr-5:55' 'hr-5:50'\n",
      " 'hr-5:45' 'hr-5:40' 'hr-5:35' 'hr-5:30' 'hr-5:25' 'hr-5:20' 'hr-5:15'\n",
      " 'hr-5:10' 'hr-5:05' 'hr-5:00' 'hr-4:55' 'hr-4:50' 'hr-4:45' 'hr-4:40'\n",
      " 'hr-4:35' 'hr-4:30' 'hr-4:25' 'hr-4:20' 'hr-4:15' 'hr-4:10' 'hr-4:05'\n",
      " 'hr-4:00' 'hr-3:55' 'hr-3:50' 'hr-3:45' 'hr-3:40' 'hr-3:35' 'hr-3:30'\n",
      " 'hr-3:25' 'hr-3:20' 'hr-3:15' 'hr-3:10' 'hr-3:05' 'hr-3:00' 'hr-2:55'\n",
      " 'hr-2:50' 'hr-2:45' 'hr-2:40' 'hr-2:35' 'hr-2:30' 'hr-2:25' 'hr-2:20'\n",
      " 'hr-2:15' 'hr-2:10' 'hr-2:05' 'hr-2:00' 'hr-1:55' 'hr-1:50' 'hr-1:45'\n",
      " 'hr-1:40' 'hr-1:35' 'hr-1:30' 'hr-1:25' 'hr-1:20' 'hr-1:15' 'hr-1:10'\n",
      " 'hr-1:05' 'hr-1:00' 'hr-0:55' 'hr-0:50' 'hr-0:45' 'hr-0:40' 'hr-0:35'\n",
      " 'hr-0:30' 'hr-0:25' 'hr-0:20' 'hr-0:15' 'hr-0:10' 'hr-0:05' 'hr-0:00'\n",
      " 'steps-5:55' 'steps-5:50' 'steps-5:45' 'steps-5:40' 'steps-5:35'\n",
      " 'steps-5:30' 'steps-5:25' 'steps-5:20' 'steps-5:15' 'steps-5:10'\n",
      " 'steps-5:05' 'steps-5:00' 'steps-4:55' 'steps-4:50' 'steps-4:45'\n",
      " 'steps-4:40' 'steps-4:35' 'steps-4:30' 'steps-4:25' 'steps-4:20'\n",
      " 'steps-4:15' 'steps-4:10' 'steps-4:05' 'steps-4:00' 'steps-3:55'\n",
      " 'steps-3:50' 'steps-3:45' 'steps-3:40' 'steps-3:35' 'steps-3:30'\n",
      " 'steps-3:25' 'steps-3:20' 'steps-3:15' 'steps-3:10' 'steps-3:05'\n",
      " 'steps-3:00' 'steps-2:55' 'steps-2:50' 'steps-2:45' 'steps-2:40'\n",
      " 'steps-2:35' 'steps-2:30' 'steps-2:25' 'steps-2:20' 'steps-2:15'\n",
      " 'steps-2:10' 'steps-2:05' 'steps-2:00' 'steps-1:55' 'steps-1:50'\n",
      " 'steps-1:45' 'steps-1:40' 'steps-1:35' 'steps-1:30' 'steps-1:25'\n",
      " 'steps-1:20' 'steps-1:15' 'steps-1:10' 'steps-1:05' 'steps-1:00'\n",
      " 'steps-0:55' 'steps-0:50' 'steps-0:45' 'steps-0:40' 'steps-0:35'\n",
      " 'steps-0:30' 'steps-0:25' 'steps-0:20' 'steps-0:15' 'steps-0:10'\n",
      " 'steps-0:05' 'steps-0:00' 'cals-5:55' 'cals-5:50' 'cals-5:45' 'cals-5:40'\n",
      " 'cals-5:35' 'cals-5:30' 'cals-5:25' 'cals-5:20' 'cals-5:15' 'cals-5:10'\n",
      " 'cals-5:05' 'cals-5:00' 'cals-4:55' 'cals-4:50' 'cals-4:45' 'cals-4:40'\n",
      " 'cals-4:35' 'cals-4:30' 'cals-4:25' 'cals-4:20' 'cals-4:15' 'cals-4:10'\n",
      " 'cals-4:05' 'cals-4:00' 'cals-3:55' 'cals-3:50' 'cals-3:45' 'cals-3:40'\n",
      " 'cals-3:35' 'cals-3:30' 'cals-3:25' 'cals-3:20' 'cals-3:15' 'cals-3:10'\n",
      " 'cals-3:05' 'cals-3:00' 'cals-2:55' 'cals-2:50' 'cals-2:45' 'cals-2:40'\n",
      " 'cals-2:35' 'cals-2:30' 'cals-2:25' 'cals-2:20' 'cals-2:15' 'cals-2:10'\n",
      " 'cals-2:05' 'cals-2:00' 'cals-1:55' 'cals-1:50' 'cals-1:45' 'cals-1:40'\n",
      " 'cals-1:35' 'cals-1:30' 'cals-1:25' 'cals-1:20' 'cals-1:15' 'cals-1:10'\n",
      " 'cals-1:05' 'cals-1:00' 'cals-0:55' 'cals-0:50' 'cals-0:45' 'cals-0:40'\n",
      " 'cals-0:35' 'cals-0:30' 'cals-0:25' 'cals-0:20' 'cals-0:15' 'cals-0:10'\n",
      " 'cals-0:05' 'cals-0:00' 'activity-5:55' 'activity-5:50' 'activity-5:45'\n",
      " 'activity-5:40' 'activity-5:35' 'activity-5:30' 'activity-5:25'\n",
      " 'activity-5:20' 'activity-5:15' 'activity-5:10' 'activity-5:05'\n",
      " 'activity-5:00' 'activity-4:55' 'activity-4:50' 'activity-4:45'\n",
      " 'activity-4:40' 'activity-4:35' 'activity-4:30' 'activity-4:25'\n",
      " 'activity-4:20' 'activity-4:15' 'activity-4:10' 'activity-4:05'\n",
      " 'activity-4:00' 'activity-3:55' 'activity-3:50' 'activity-3:45'\n",
      " 'activity-3:40' 'activity-3:35' 'activity-3:30' 'activity-3:25'\n",
      " 'activity-3:20' 'activity-3:15' 'activity-3:10' 'activity-3:05'\n",
      " 'activity-3:00' 'activity-2:55' 'activity-2:50' 'activity-2:45'\n",
      " 'activity-2:40' 'activity-2:35' 'activity-2:30' 'activity-2:25'\n",
      " 'activity-2:20' 'activity-2:15' 'activity-2:10' 'activity-2:05'\n",
      " 'activity-2:00' 'activity-1:55' 'activity-1:50' 'activity-1:45'\n",
      " 'activity-1:40' 'activity-1:35' 'activity-1:30' 'activity-1:25'\n",
      " 'activity-1:20' 'activity-1:15' 'activity-1:10' 'activity-1:05'\n",
      " 'activity-1:00' 'activity-0:55' 'activity-0:50' 'activity-0:45'\n",
      " 'activity-0:40' 'activity-0:35' 'activity-0:30' 'activity-0:25'\n",
      " 'activity-0:20' 'activity-0:15' 'activity-0:10' 'activity-0:05'\n",
      " 'activity-0:00' 'bg+1:00']\n"
     ]
    }
   ],
   "source": [
    "# check import\n",
    "print(\"Size of the data : \")\n",
    "print(train.shape)\n",
    "print(\"column nnames : \")\n",
    "print(train.columns)\n",
    "print(\"data types : \")\n",
    "print(train.dtypes)\n",
    "print(train.dtypes.count())\n",
    "\n",
    "print(train.columns.values)\n"
   ]
  },
  {
   "cell_type": "markdown",
   "metadata": {},
   "source": [
    "Convert the time data into a readable format"
   ]
  },
  {
   "cell_type": "code",
   "execution_count": 5,
   "metadata": {},
   "outputs": [],
   "source": [
    "# # check time format\n",
    "# print(train['time'].head())\n",
    "# print(\"Time format : \")\n",
    "# print(train[\"time\"].dtypes)\n",
    "\n",
    "# # convert time to datetime\n",
    "# train['time'] = pd.to_datetime(train['time'])\n",
    "# print(train['time'].head())\n",
    "# print(\"Time format : \")\n",
    "# print(train[\"time\"].dtypes)\n"
   ]
  },
  {
   "cell_type": "markdown",
   "metadata": {},
   "source": [
    "## Data descriptive statistics"
   ]
  },
  {
   "cell_type": "code",
   "execution_count": 6,
   "metadata": {},
   "outputs": [
    {
     "name": "stdout",
     "output_type": "stream",
     "text": [
      "Number of patients : \n",
      "9\n",
      "patient ids :  ['p01' 'p02' 'p03' 'p04' 'p05' 'p06' 'p10' 'p11' 'p12']\n",
      "Number of measurements per patient : \n",
      "p_num\n",
      "p03    26028\n",
      "p02    25872\n",
      "p10    25454\n",
      "p12    25299\n",
      "p04    24686\n",
      "p11    24555\n",
      "p01     8459\n",
      "p06     8383\n",
      "p05     8288\n",
      "Name: count, dtype: int64\n"
     ]
    }
   ],
   "source": [
    "# get the number of patients\n",
    "print(\"Number of patients : \")\n",
    "print(len(train['p_num'].unique()))\n",
    "print(\"patient ids : \", train['p_num'].unique())\n",
    "\n",
    "# number of measurements per patient\n",
    "print(\"Number of measurements per patient : \")\n",
    "print(train['p_num'].value_counts())\n"
   ]
  },
  {
   "cell_type": "markdown",
   "metadata": {},
   "source": [
    "The number of measures per patient is not the same : data are not properly balanced."
   ]
  },
  {
   "cell_type": "code",
   "execution_count": 7,
   "metadata": {},
   "outputs": [
    {
     "name": "stdout",
     "output_type": "stream",
     "text": [
      "Number of missing values : \n",
      "id                    0\n",
      "p_num                 0\n",
      "time                  0\n",
      "bg-5:55           27254\n",
      "bg-5:50           18491\n",
      "                  ...  \n",
      "activity-0:15    174293\n",
      "activity-0:10    174287\n",
      "activity-0:05    174271\n",
      "activity-0:00    174287\n",
      "bg+1:00               0\n",
      "Length: 508, dtype: int64\n",
      "Percentage of missing values : \n",
      "id                0.000000\n",
      "p_num             0.000000\n",
      "time              0.000000\n",
      "bg-5:55          15.395653\n",
      "bg-5:50          10.445476\n",
      "                   ...    \n",
      "activity-0:15    98.457271\n",
      "activity-0:10    98.453882\n",
      "activity-0:05    98.444844\n",
      "activity-0:00    98.453882\n",
      "bg+1:00           0.000000\n",
      "Length: 508, dtype: float64\n"
     ]
    }
   ],
   "source": [
    "# get the number of missing values\n",
    "print(\"Number of missing values : \")\n",
    "print(train.isnull().sum())\n",
    "percentages = train.isnull().sum() / train.shape[0] * 100\n",
    "print(\"Percentage of missing values : \")\n",
    "print(percentages)\n"
   ]
  },
  {
   "cell_type": "code",
   "execution_count": 8,
   "metadata": {},
   "outputs": [
    {
     "name": "stdout",
     "output_type": "stream",
     "text": [
      "Different times of measurements : \n",
      "288\n",
      "['06:10:00' '06:25:00' '06:40:00' '06:55:00' '07:10:00' '07:25:00'\n",
      " '07:40:00' '07:55:00' '08:10:00' '08:25:00' '08:40:00' '08:55:00'\n",
      " '09:10:00' '09:25:00' '09:40:00' '09:55:00' '10:10:00' '10:25:00'\n",
      " '10:40:00' '10:55:00' '11:10:00' '11:25:00' '11:40:00' '11:55:00'\n",
      " '12:10:00' '12:25:00' '12:45:00' '13:00:00' '13:15:00' '13:30:00'\n",
      " '13:45:00' '14:00:00' '14:15:00' '14:30:00' '14:40:00' '15:00:00'\n",
      " '15:15:00' '15:30:00' '15:45:00' '16:00:00' '16:15:00' '16:30:00'\n",
      " '16:45:00' '17:00:00' '17:15:00' '17:30:00' '17:45:00' '18:00:00'\n",
      " '18:15:00' '18:30:00' '18:45:00' '19:00:00' '19:15:00' '19:30:00'\n",
      " '19:45:00' '20:00:00' '20:15:00' '20:30:00' '20:45:00' '21:00:00'\n",
      " '21:15:00' '21:30:00' '21:45:00' '22:00:00' '22:20:00' '22:35:00'\n",
      " '22:50:00' '23:05:00' '23:20:00' '23:35:00' '23:50:00' '00:05:00'\n",
      " '00:20:00' '00:35:00' '00:50:00' '01:05:00' '01:20:00' '01:35:00'\n",
      " '01:50:00' '02:05:00' '02:20:00' '02:35:00' '02:50:00' '03:05:00'\n",
      " '03:20:00' '03:35:00' '03:50:00' '04:05:00' '04:20:00' '04:35:00'\n",
      " '04:50:00' '05:05:00' '05:20:00' '05:35:00' '05:50:00' '06:05:00'\n",
      " '06:20:00' '06:35:00' '06:50:00' '07:05:00' '12:55:00' '13:10:00'\n",
      " '13:25:00' '13:40:00' '13:55:00' '14:10:00' '14:25:00' '14:55:00'\n",
      " '15:10:00' '15:25:00' '15:40:00' '15:55:00' '16:10:00' '16:25:00'\n",
      " '16:40:00' '16:55:00' '22:15:00' '22:30:00' '22:45:00' '23:00:00'\n",
      " '23:15:00' '07:20:00' '07:35:00' '07:50:00' '08:05:00' '08:20:00'\n",
      " '08:35:00' '08:50:00' '09:05:00' '09:20:00' '09:35:00' '09:50:00'\n",
      " '12:40:00' '17:10:00' '17:25:00' '17:40:00' '17:55:00' '18:10:00'\n",
      " '18:25:00' '18:40:00' '19:40:00' '10:05:00' '10:20:00' '10:35:00'\n",
      " '10:50:00' '11:05:00' '11:20:00' '11:35:00' '18:55:00' '19:10:00'\n",
      " '19:25:00' '19:55:00' '20:10:00' '20:25:00' '20:40:00' '20:55:00'\n",
      " '21:10:00' '21:25:00' '21:40:00' '21:55:00' '22:10:00' '23:30:00'\n",
      " '23:45:00' '00:00:00' '00:15:00' '00:30:00' '00:45:00' '01:00:00'\n",
      " '01:15:00' '01:30:00' '01:45:00' '02:00:00' '02:15:00' '02:30:00'\n",
      " '02:45:00' '03:00:00' '03:15:00' '03:30:00' '03:45:00' '04:00:00'\n",
      " '04:15:00' '04:30:00' '04:45:00' '05:00:00' '05:15:00' '05:30:00'\n",
      " '05:45:00' '06:00:00' '06:15:00' '06:30:00' '06:45:00' '07:00:00'\n",
      " '07:15:00' '11:50:00' '12:05:00' '12:20:00' '12:35:00' '12:50:00'\n",
      " '13:05:00' '13:20:00' '13:35:00' '13:50:00' '14:05:00' '14:20:00'\n",
      " '14:35:00' '14:50:00' '15:05:00' '15:20:00' '15:35:00' '15:50:00'\n",
      " '22:25:00' '22:40:00' '22:55:00' '23:10:00' '23:25:00' '23:40:00'\n",
      " '23:55:00' '00:10:00' '00:25:00' '00:40:00' '00:55:00' '01:10:00'\n",
      " '07:30:00' '07:45:00' '08:00:00' '08:15:00' '08:30:00' '08:45:00'\n",
      " '09:00:00' '09:15:00' '09:30:00' '09:45:00' '10:00:00' '10:15:00'\n",
      " '10:30:00' '10:45:00' '11:00:00' '16:05:00' '16:20:00' '16:35:00'\n",
      " '16:50:00' '17:05:00' '17:20:00' '11:15:00' '11:30:00' '11:45:00'\n",
      " '12:00:00' '12:15:00' '12:30:00' '17:35:00' '17:50:00' '18:05:00'\n",
      " '18:20:00' '18:35:00' '18:50:00' '19:05:00' '19:20:00' '19:35:00'\n",
      " '19:50:00' '20:05:00' '20:20:00' '20:35:00' '20:50:00' '21:05:00'\n",
      " '21:20:00' '21:35:00' '21:50:00' '22:05:00' '01:25:00' '01:40:00'\n",
      " '01:55:00' '02:10:00' '02:25:00' '02:40:00' '02:55:00' '03:10:00'\n",
      " '03:25:00' '03:40:00' '03:55:00' '04:10:00' '04:25:00' '04:40:00'\n",
      " '04:55:00' '05:10:00' '05:25:00' '05:40:00' '05:55:00' '14:45:00']\n"
     ]
    }
   ],
   "source": [
    "# get the different times of measurements\n",
    "print(\"Different times of measurements : \")\n",
    "print(len(train['time'].unique()))\n",
    "print(train['time'].unique())\n"
   ]
  },
  {
   "cell_type": "markdown",
   "metadata": {},
   "source": [
    "The is continious measures for all of the patients : every five minutes during 24h. \n",
    "But, there is a lot of missing values. \n",
    "\n",
    "How to handle the NA?\n",
    "\n",
    "- do data imputation? \n",
    "- remove the other time frame? "
   ]
  },
  {
   "cell_type": "code",
   "execution_count": 9,
   "metadata": {},
   "outputs": [
    {
     "data": {
      "text/html": [
       "<div>\n",
       "<style scoped>\n",
       "    .dataframe tbody tr th:only-of-type {\n",
       "        vertical-align: middle;\n",
       "    }\n",
       "\n",
       "    .dataframe tbody tr th {\n",
       "        vertical-align: top;\n",
       "    }\n",
       "\n",
       "    .dataframe thead th {\n",
       "        text-align: right;\n",
       "    }\n",
       "</style>\n",
       "<table border=\"1\" class=\"dataframe\">\n",
       "  <thead>\n",
       "    <tr style=\"text-align: right;\">\n",
       "      <th></th>\n",
       "      <th>bg-5:55</th>\n",
       "      <th>bg-5:50</th>\n",
       "      <th>bg-5:45</th>\n",
       "      <th>bg-5:40</th>\n",
       "      <th>bg-5:35</th>\n",
       "      <th>bg-5:30</th>\n",
       "      <th>bg-5:25</th>\n",
       "      <th>bg-5:20</th>\n",
       "      <th>bg-5:15</th>\n",
       "      <th>bg-5:10</th>\n",
       "      <th>...</th>\n",
       "      <th>cals-0:40</th>\n",
       "      <th>cals-0:35</th>\n",
       "      <th>cals-0:30</th>\n",
       "      <th>cals-0:25</th>\n",
       "      <th>cals-0:20</th>\n",
       "      <th>cals-0:15</th>\n",
       "      <th>cals-0:10</th>\n",
       "      <th>cals-0:05</th>\n",
       "      <th>cals-0:00</th>\n",
       "      <th>bg+1:00</th>\n",
       "    </tr>\n",
       "  </thead>\n",
       "  <tbody>\n",
       "    <tr>\n",
       "      <th>count</th>\n",
       "      <td>149770.000000</td>\n",
       "      <td>158533.000000</td>\n",
       "      <td>163364.000000</td>\n",
       "      <td>149766.000000</td>\n",
       "      <td>158254.000000</td>\n",
       "      <td>163770.000000</td>\n",
       "      <td>149763.000000</td>\n",
       "      <td>157973.000000</td>\n",
       "      <td>164174.000000</td>\n",
       "      <td>149771.000000</td>\n",
       "      <td>...</td>\n",
       "      <td>141694.000000</td>\n",
       "      <td>141706.000000</td>\n",
       "      <td>141713.000000</td>\n",
       "      <td>141722.000000</td>\n",
       "      <td>141732.000000</td>\n",
       "      <td>141741.000000</td>\n",
       "      <td>141751.000000</td>\n",
       "      <td>141761.000000</td>\n",
       "      <td>141767.000000</td>\n",
       "      <td>177024.000000</td>\n",
       "    </tr>\n",
       "    <tr>\n",
       "      <th>mean</th>\n",
       "      <td>8.211018</td>\n",
       "      <td>8.230449</td>\n",
       "      <td>8.253291</td>\n",
       "      <td>8.210988</td>\n",
       "      <td>8.229649</td>\n",
       "      <td>8.254083</td>\n",
       "      <td>8.211049</td>\n",
       "      <td>8.228888</td>\n",
       "      <td>8.254602</td>\n",
       "      <td>8.211000</td>\n",
       "      <td>...</td>\n",
       "      <td>9.364063</td>\n",
       "      <td>9.364096</td>\n",
       "      <td>9.362525</td>\n",
       "      <td>9.366591</td>\n",
       "      <td>9.368108</td>\n",
       "      <td>9.366998</td>\n",
       "      <td>9.370010</td>\n",
       "      <td>9.372536</td>\n",
       "      <td>9.368960</td>\n",
       "      <td>8.277045</td>\n",
       "    </tr>\n",
       "    <tr>\n",
       "      <th>std</th>\n",
       "      <td>2.852188</td>\n",
       "      <td>2.913438</td>\n",
       "      <td>2.945594</td>\n",
       "      <td>2.852090</td>\n",
       "      <td>2.911313</td>\n",
       "      <td>2.947651</td>\n",
       "      <td>2.852212</td>\n",
       "      <td>2.909304</td>\n",
       "      <td>2.949689</td>\n",
       "      <td>2.852315</td>\n",
       "      <td>...</td>\n",
       "      <td>8.012264</td>\n",
       "      <td>8.012681</td>\n",
       "      <td>8.017508</td>\n",
       "      <td>8.018465</td>\n",
       "      <td>8.018349</td>\n",
       "      <td>8.023788</td>\n",
       "      <td>8.021999</td>\n",
       "      <td>8.023280</td>\n",
       "      <td>8.023327</td>\n",
       "      <td>2.996398</td>\n",
       "    </tr>\n",
       "    <tr>\n",
       "      <th>min</th>\n",
       "      <td>2.200000</td>\n",
       "      <td>2.200000</td>\n",
       "      <td>2.200000</td>\n",
       "      <td>2.200000</td>\n",
       "      <td>2.200000</td>\n",
       "      <td>2.200000</td>\n",
       "      <td>2.200000</td>\n",
       "      <td>2.200000</td>\n",
       "      <td>2.200000</td>\n",
       "      <td>2.200000</td>\n",
       "      <td>...</td>\n",
       "      <td>0.030000</td>\n",
       "      <td>0.030000</td>\n",
       "      <td>0.030000</td>\n",
       "      <td>0.030000</td>\n",
       "      <td>0.030000</td>\n",
       "      <td>0.030000</td>\n",
       "      <td>0.030000</td>\n",
       "      <td>0.030000</td>\n",
       "      <td>0.030000</td>\n",
       "      <td>2.200000</td>\n",
       "    </tr>\n",
       "    <tr>\n",
       "      <th>25%</th>\n",
       "      <td>6.100000</td>\n",
       "      <td>6.100000</td>\n",
       "      <td>6.100000</td>\n",
       "      <td>6.100000</td>\n",
       "      <td>6.100000</td>\n",
       "      <td>6.100000</td>\n",
       "      <td>6.100000</td>\n",
       "      <td>6.100000</td>\n",
       "      <td>6.100000</td>\n",
       "      <td>6.100000</td>\n",
       "      <td>...</td>\n",
       "      <td>5.600000</td>\n",
       "      <td>5.600000</td>\n",
       "      <td>5.600000</td>\n",
       "      <td>5.600000</td>\n",
       "      <td>5.600000</td>\n",
       "      <td>5.600000</td>\n",
       "      <td>5.600000</td>\n",
       "      <td>5.600000</td>\n",
       "      <td>5.600000</td>\n",
       "      <td>6.100000</td>\n",
       "    </tr>\n",
       "    <tr>\n",
       "      <th>50%</th>\n",
       "      <td>7.600000</td>\n",
       "      <td>7.600000</td>\n",
       "      <td>7.700000</td>\n",
       "      <td>7.600000</td>\n",
       "      <td>7.600000</td>\n",
       "      <td>7.700000</td>\n",
       "      <td>7.600000</td>\n",
       "      <td>7.600000</td>\n",
       "      <td>7.700000</td>\n",
       "      <td>7.600000</td>\n",
       "      <td>...</td>\n",
       "      <td>6.180000</td>\n",
       "      <td>6.180000</td>\n",
       "      <td>6.170000</td>\n",
       "      <td>6.180000</td>\n",
       "      <td>6.180000</td>\n",
       "      <td>6.180000</td>\n",
       "      <td>6.180000</td>\n",
       "      <td>6.180000</td>\n",
       "      <td>6.180000</td>\n",
       "      <td>7.700000</td>\n",
       "    </tr>\n",
       "    <tr>\n",
       "      <th>75%</th>\n",
       "      <td>9.800000</td>\n",
       "      <td>9.800000</td>\n",
       "      <td>9.800000</td>\n",
       "      <td>9.800000</td>\n",
       "      <td>9.800000</td>\n",
       "      <td>9.800000</td>\n",
       "      <td>9.800000</td>\n",
       "      <td>9.800000</td>\n",
       "      <td>9.800000</td>\n",
       "      <td>9.800000</td>\n",
       "      <td>...</td>\n",
       "      <td>9.060000</td>\n",
       "      <td>9.060000</td>\n",
       "      <td>9.050000</td>\n",
       "      <td>9.060000</td>\n",
       "      <td>9.060000</td>\n",
       "      <td>9.060000</td>\n",
       "      <td>9.060000</td>\n",
       "      <td>9.070000</td>\n",
       "      <td>9.060000</td>\n",
       "      <td>9.900000</td>\n",
       "    </tr>\n",
       "    <tr>\n",
       "      <th>max</th>\n",
       "      <td>22.200000</td>\n",
       "      <td>25.100000</td>\n",
       "      <td>27.800000</td>\n",
       "      <td>22.200000</td>\n",
       "      <td>25.100000</td>\n",
       "      <td>27.800000</td>\n",
       "      <td>22.200000</td>\n",
       "      <td>25.100000</td>\n",
       "      <td>27.800000</td>\n",
       "      <td>22.200000</td>\n",
       "      <td>...</td>\n",
       "      <td>116.100000</td>\n",
       "      <td>116.100000</td>\n",
       "      <td>116.100000</td>\n",
       "      <td>116.100000</td>\n",
       "      <td>116.100000</td>\n",
       "      <td>116.100000</td>\n",
       "      <td>116.100000</td>\n",
       "      <td>116.100000</td>\n",
       "      <td>116.100000</td>\n",
       "      <td>27.800000</td>\n",
       "    </tr>\n",
       "  </tbody>\n",
       "</table>\n",
       "<p>8 rows × 433 columns</p>\n",
       "</div>"
      ],
      "text/plain": [
       "             bg-5:55        bg-5:50        bg-5:45        bg-5:40  \\\n",
       "count  149770.000000  158533.000000  163364.000000  149766.000000   \n",
       "mean        8.211018       8.230449       8.253291       8.210988   \n",
       "std         2.852188       2.913438       2.945594       2.852090   \n",
       "min         2.200000       2.200000       2.200000       2.200000   \n",
       "25%         6.100000       6.100000       6.100000       6.100000   \n",
       "50%         7.600000       7.600000       7.700000       7.600000   \n",
       "75%         9.800000       9.800000       9.800000       9.800000   \n",
       "max        22.200000      25.100000      27.800000      22.200000   \n",
       "\n",
       "             bg-5:35        bg-5:30        bg-5:25        bg-5:20  \\\n",
       "count  158254.000000  163770.000000  149763.000000  157973.000000   \n",
       "mean        8.229649       8.254083       8.211049       8.228888   \n",
       "std         2.911313       2.947651       2.852212       2.909304   \n",
       "min         2.200000       2.200000       2.200000       2.200000   \n",
       "25%         6.100000       6.100000       6.100000       6.100000   \n",
       "50%         7.600000       7.700000       7.600000       7.600000   \n",
       "75%         9.800000       9.800000       9.800000       9.800000   \n",
       "max        25.100000      27.800000      22.200000      25.100000   \n",
       "\n",
       "             bg-5:15        bg-5:10  ...      cals-0:40      cals-0:35  \\\n",
       "count  164174.000000  149771.000000  ...  141694.000000  141706.000000   \n",
       "mean        8.254602       8.211000  ...       9.364063       9.364096   \n",
       "std         2.949689       2.852315  ...       8.012264       8.012681   \n",
       "min         2.200000       2.200000  ...       0.030000       0.030000   \n",
       "25%         6.100000       6.100000  ...       5.600000       5.600000   \n",
       "50%         7.700000       7.600000  ...       6.180000       6.180000   \n",
       "75%         9.800000       9.800000  ...       9.060000       9.060000   \n",
       "max        27.800000      22.200000  ...     116.100000     116.100000   \n",
       "\n",
       "           cals-0:30      cals-0:25      cals-0:20      cals-0:15  \\\n",
       "count  141713.000000  141722.000000  141732.000000  141741.000000   \n",
       "mean        9.362525       9.366591       9.368108       9.366998   \n",
       "std         8.017508       8.018465       8.018349       8.023788   \n",
       "min         0.030000       0.030000       0.030000       0.030000   \n",
       "25%         5.600000       5.600000       5.600000       5.600000   \n",
       "50%         6.170000       6.180000       6.180000       6.180000   \n",
       "75%         9.050000       9.060000       9.060000       9.060000   \n",
       "max       116.100000     116.100000     116.100000     116.100000   \n",
       "\n",
       "           cals-0:10      cals-0:05      cals-0:00        bg+1:00  \n",
       "count  141751.000000  141761.000000  141767.000000  177024.000000  \n",
       "mean        9.370010       9.372536       9.368960       8.277045  \n",
       "std         8.021999       8.023280       8.023327       2.996398  \n",
       "min         0.030000       0.030000       0.030000       2.200000  \n",
       "25%         5.600000       5.600000       5.600000       6.100000  \n",
       "50%         6.180000       6.180000       6.180000       7.700000  \n",
       "75%         9.060000       9.070000       9.060000       9.900000  \n",
       "max       116.100000     116.100000     116.100000      27.800000  \n",
       "\n",
       "[8 rows x 433 columns]"
      ]
     },
     "execution_count": 9,
     "metadata": {},
     "output_type": "execute_result"
    }
   ],
   "source": [
    "train.describe()"
   ]
  },
  {
   "cell_type": "markdown",
   "metadata": {},
   "source": [
    "# Handle missing values"
   ]
  },
  {
   "cell_type": "markdown",
   "metadata": {},
   "source": [
    "remove sessions with empty insulin values\n",
    "\n",
    "Impute the missing values\n",
    "\n",
    "do encoding of exercice\n",
    "\n",
    "remove heart rate values.\n"
   ]
  },
  {
   "cell_type": "markdown",
   "metadata": {},
   "source": [
    "### Remove columns with no insulin values : "
   ]
  },
  {
   "cell_type": "code",
   "execution_count": 10,
   "metadata": {},
   "outputs": [
    {
     "name": "stdout",
     "output_type": "stream",
     "text": [
      "train dataset initial: (177024, 508)\n",
      "['insulin-5:55', 'insulin-5:50', 'insulin-5:45', 'insulin-5:40', 'insulin-5:35', 'insulin-5:30', 'insulin-5:25', 'insulin-5:20', 'insulin-5:15', 'insulin-5:10', 'insulin-5:05', 'insulin-5:00', 'insulin-4:55', 'insulin-4:50', 'insulin-4:45', 'insulin-4:40', 'insulin-4:35', 'insulin-4:30', 'insulin-4:25', 'insulin-4:20', 'insulin-4:15', 'insulin-4:10', 'insulin-4:05', 'insulin-4:00', 'insulin-3:55', 'insulin-3:50', 'insulin-3:45', 'insulin-3:40', 'insulin-3:35', 'insulin-3:30', 'insulin-3:25', 'insulin-3:20', 'insulin-3:15', 'insulin-3:10', 'insulin-3:05', 'insulin-3:00', 'insulin-2:55', 'insulin-2:50', 'insulin-2:45', 'insulin-2:40', 'insulin-2:35', 'insulin-2:30', 'insulin-2:25', 'insulin-2:20', 'insulin-2:15', 'insulin-2:10', 'insulin-2:05', 'insulin-2:00', 'insulin-1:55', 'insulin-1:50', 'insulin-1:45', 'insulin-1:40', 'insulin-1:35', 'insulin-1:30', 'insulin-1:25', 'insulin-1:20', 'insulin-1:15', 'insulin-1:10', 'insulin-1:05', 'insulin-1:00', 'insulin-0:55', 'insulin-0:50', 'insulin-0:45', 'insulin-0:40', 'insulin-0:35', 'insulin-0:30', 'insulin-0:25', 'insulin-0:20', 'insulin-0:15', 'insulin-0:10', 'insulin-0:05', 'insulin-0:00']\n",
      "train dataset filted: (167659, 508)\n"
     ]
    }
   ],
   "source": [
    "print(f\"train dataset initial: {train.shape}\")\n",
    "\n",
    "# Find the columns that contain the word 'insulin'\n",
    "insulin_cols = [col for col in train.columns if 'insulin' in col]\n",
    "print(insulin_cols)\n",
    "\n",
    "# Filter out the rows where all insulin columns are all NaN\n",
    "train.dropna(subset=insulin_cols, inplace=True, how=\"all\")\n",
    "\n",
    "\n",
    "print(f\"train dataset filted: {train.shape}\")\n"
   ]
  },
  {
   "cell_type": "markdown",
   "metadata": {},
   "source": [
    "### Impute missing values for blood glucose :"
   ]
  },
  {
   "cell_type": "code",
   "execution_count": 11,
   "metadata": {},
   "outputs": [],
   "source": [
    "def fill_na_with_linear_interpolation(df, prefixe):\n",
    "    # Filter out all columns containing ‘bg’\n",
    "    cols = [col for col in df.columns if col.startswith(prefixe)]\n",
    "    \n",
    "    # Linearly interpolate each row   \n",
    "    df[cols] = df[cols].interpolate(method='linear', axis=1, limit_direction='both')\n",
    "    \n",
    "    return df"
   ]
  },
  {
   "cell_type": "code",
   "execution_count": 12,
   "metadata": {},
   "outputs": [
    {
     "name": "stdout",
     "output_type": "stream",
     "text": [
      "['bg-5:55', 'bg-5:50', 'bg-5:45', 'bg-5:40', 'bg-5:35', 'bg-5:30', 'bg-5:25', 'bg-5:20', 'bg-5:15', 'bg-5:10', 'bg-5:05', 'bg-5:00', 'bg-4:55', 'bg-4:50', 'bg-4:45', 'bg-4:40', 'bg-4:35', 'bg-4:30', 'bg-4:25', 'bg-4:20', 'bg-4:15', 'bg-4:10', 'bg-4:05', 'bg-4:00', 'bg-3:55', 'bg-3:50', 'bg-3:45', 'bg-3:40', 'bg-3:35', 'bg-3:30', 'bg-3:25', 'bg-3:20', 'bg-3:15', 'bg-3:10', 'bg-3:05', 'bg-3:00', 'bg-2:55', 'bg-2:50', 'bg-2:45', 'bg-2:40', 'bg-2:35', 'bg-2:30', 'bg-2:25', 'bg-2:20', 'bg-2:15', 'bg-2:10', 'bg-2:05', 'bg-2:00', 'bg-1:55', 'bg-1:50', 'bg-1:45', 'bg-1:40', 'bg-1:35', 'bg-1:30', 'bg-1:25', 'bg-1:20', 'bg-1:15', 'bg-1:10', 'bg-1:05', 'bg-1:00', 'bg-0:55', 'bg-0:50', 'bg-0:45', 'bg-0:40', 'bg-0:35', 'bg-0:30', 'bg-0:25', 'bg-0:20', 'bg-0:15', 'bg-0:10', 'bg-0:05', 'bg-0:00', 'bg+1:00']\n",
      "bg-5:55    26985\n",
      "bg-5:50    18225\n",
      "bg-5:45    13396\n",
      "bg-5:40    26996\n",
      "bg-5:35    18510\n",
      "           ...  \n",
      "bg-0:15     3240\n",
      "bg-0:10    25794\n",
      "bg-0:05    24414\n",
      "bg-0:00     2673\n",
      "bg+1:00        0\n",
      "Length: 73, dtype: int64\n"
     ]
    }
   ],
   "source": [
    "bg_cols = [col for col in train.columns if 'bg' in col]\n",
    "print(bg_cols)\n",
    "\n",
    "print(train[bg_cols].isnull().sum())"
   ]
  },
  {
   "cell_type": "code",
   "execution_count": 13,
   "metadata": {},
   "outputs": [
    {
     "name": "stdout",
     "output_type": "stream",
     "text": [
      "bg-5:55    0\n",
      "bg-5:50    0\n",
      "bg-5:45    0\n",
      "bg-5:40    0\n",
      "bg-5:35    0\n",
      "          ..\n",
      "bg-0:15    0\n",
      "bg-0:10    0\n",
      "bg-0:05    0\n",
      "bg-0:00    0\n",
      "bg+1:00    0\n",
      "Length: 73, dtype: int64\n"
     ]
    }
   ],
   "source": [
    "train = fill_na_with_linear_interpolation(train, 'bg')\n",
    "print(train[bg_cols].isnull().sum())"
   ]
  },
  {
   "cell_type": "markdown",
   "metadata": {},
   "source": [
    "### Impute the other variables"
   ]
  },
  {
   "cell_type": "code",
   "execution_count": 14,
   "metadata": {},
   "outputs": [
    {
     "data": {
      "text/plain": [
       "(167659, 508)"
      ]
     },
     "execution_count": 14,
     "metadata": {},
     "output_type": "execute_result"
    }
   ],
   "source": [
    "train.shape"
   ]
  },
  {
   "cell_type": "code",
   "execution_count": 15,
   "metadata": {},
   "outputs": [
    {
     "name": "stdout",
     "output_type": "stream",
     "text": [
      "insulin-5:55    0\n",
      "insulin-5:50    0\n",
      "insulin-5:45    0\n",
      "insulin-5:40    0\n",
      "insulin-5:35    0\n",
      "               ..\n",
      "steps-0:20      0\n",
      "steps-0:15      0\n",
      "steps-0:10      0\n",
      "steps-0:05      0\n",
      "steps-0:00      0\n",
      "Length: 216, dtype: int64\n",
      "cals-5:55    0\n",
      "cals-5:50    0\n",
      "cals-5:45    0\n",
      "cals-5:40    0\n",
      "cals-5:35    0\n",
      "            ..\n",
      "cals-0:20    0\n",
      "cals-0:15    0\n",
      "cals-0:10    0\n",
      "cals-0:05    0\n",
      "cals-0:00    0\n",
      "Length: 72, dtype: int64\n",
      "(167659, 508)\n"
     ]
    }
   ],
   "source": [
    "# imputer insulin, carbs et steps avec des 0 (on considere que si rien n'a été déclaré, la valeur est a 0)\n",
    "ins_cols = [col for col in train.columns if 'insulin' in col]\n",
    "carbs_cols = [col for col in train.columns if 'carb' in col]\n",
    "steps_cols = [col for col in train.columns if 'steps' in col]\n",
    "\n",
    "to_impute0 = ins_cols + carbs_cols + steps_cols\n",
    "\n",
    "# imputer = SimpleImputer(strategy='constant', fill_value = 0) \n",
    "imputer = SimpleImputer(strategy='constant', fill_value = -0.01)         \n",
    "train[to_impute0] = imputer.fit_transform(train[to_impute0])\n",
    "test[to_impute0] = imputer.transform(test[to_impute0])\n",
    "\n",
    "# imputer cals colonnes avec des 1 (valeur moyenne par défaut de consommation de calorie au repos)\n",
    "cals_cols = [col for col in train.columns if 'cals' in col]\n",
    "\n",
    "# imputer = SimpleImputer(strategy='constant', fill_value = 1) \n",
    "imputer = SimpleImputer(strategy='constant', fill_value = -0.01)         \n",
    "train[cals_cols] = imputer.fit_transform(train[cals_cols])\n",
    "test[cals_cols] = imputer.transform(test[cals_cols])\n",
    "\n",
    "print(train[to_impute0].isnull().sum())\n",
    "print(train[cals_cols].isnull().sum())\n",
    "print(train.shape)"
   ]
  },
  {
   "cell_type": "markdown",
   "metadata": {},
   "source": [
    "### Encode activity "
   ]
  },
  {
   "cell_type": "code",
   "execution_count": 16,
   "metadata": {},
   "outputs": [
    {
     "name": "stdout",
     "output_type": "stream",
     "text": [
      "['activity-5:55', 'activity-5:50', 'activity-5:45', 'activity-5:40', 'activity-5:35', 'activity-5:30', 'activity-5:25', 'activity-5:20', 'activity-5:15', 'activity-5:10', 'activity-5:05', 'activity-5:00', 'activity-4:55', 'activity-4:50', 'activity-4:45', 'activity-4:40', 'activity-4:35', 'activity-4:30', 'activity-4:25', 'activity-4:20', 'activity-4:15', 'activity-4:10', 'activity-4:05', 'activity-4:00', 'activity-3:55', 'activity-3:50', 'activity-3:45', 'activity-3:40', 'activity-3:35', 'activity-3:30', 'activity-3:25', 'activity-3:20', 'activity-3:15', 'activity-3:10', 'activity-3:05', 'activity-3:00', 'activity-2:55', 'activity-2:50', 'activity-2:45', 'activity-2:40', 'activity-2:35', 'activity-2:30', 'activity-2:25', 'activity-2:20', 'activity-2:15', 'activity-2:10', 'activity-2:05', 'activity-2:00', 'activity-1:55', 'activity-1:50', 'activity-1:45', 'activity-1:40', 'activity-1:35', 'activity-1:30', 'activity-1:25', 'activity-1:20', 'activity-1:15', 'activity-1:10', 'activity-1:05', 'activity-1:00', 'activity-0:55', 'activity-0:50', 'activity-0:45', 'activity-0:40', 'activity-0:35', 'activity-0:30', 'activity-0:25', 'activity-0:20', 'activity-0:15', 'activity-0:10', 'activity-0:05', 'activity-0:00']\n",
      "       activity-5:55 activity-5:50 activity-5:45 activity-5:40 activity-5:35  \\\n",
      "count           2687          2685          2668          2681          2681   \n",
      "unique            22            22            22            22            22   \n",
      "top             Walk          Walk          Walk          Walk          Walk   \n",
      "freq            1924          1921          1910          1920          1916   \n",
      "\n",
      "       activity-5:30 activity-5:25 activity-5:20 activity-5:15 activity-5:10  \\\n",
      "count           2663          2676          2681          2659          2673   \n",
      "unique            22            22            22            22            22   \n",
      "top             Walk          Walk          Walk          Walk          Walk   \n",
      "freq            1907          1916          1917          1907          1916   \n",
      "\n",
      "        ... activity-0:45 activity-0:40 activity-0:35 activity-0:30  \\\n",
      "count   ...          2682          2685          2695          2678   \n",
      "unique  ...            21            21            21            21   \n",
      "top     ...          Walk          Walk          Walk          Walk   \n",
      "freq    ...          1940          1939          1946          1936   \n",
      "\n",
      "       activity-0:25 activity-0:20 activity-0:15 activity-0:10 activity-0:05  \\\n",
      "count           2680          2701          2678          2684          2700   \n",
      "unique            21            22            22            22            22   \n",
      "top             Walk          Walk          Walk          Walk          Walk   \n",
      "freq            1933          1951          1933          1934          1950   \n",
      "\n",
      "       activity-0:00  \n",
      "count           2684  \n",
      "unique            22  \n",
      "top             Walk  \n",
      "freq            1932  \n",
      "\n",
      "[4 rows x 72 columns]\n",
      "  activity-5:55 activity-5:50 activity-5:45 activity-5:40 activity-5:35  \\\n",
      "0           NaN           NaN           NaN           NaN           NaN   \n",
      "1           NaN           NaN           NaN           NaN           NaN   \n",
      "2           NaN           NaN           NaN           NaN           NaN   \n",
      "3           NaN           NaN           NaN           NaN           NaN   \n",
      "4           NaN           NaN           NaN           NaN           NaN   \n",
      "\n",
      "  activity-5:30 activity-5:25 activity-5:20 activity-5:15 activity-5:10  ...  \\\n",
      "0           NaN           NaN           NaN           NaN           NaN  ...   \n",
      "1           NaN           NaN           NaN           NaN           NaN  ...   \n",
      "2           NaN           NaN           NaN           NaN           NaN  ...   \n",
      "3           NaN           NaN           NaN           NaN           NaN  ...   \n",
      "4           NaN           NaN           NaN           NaN           NaN  ...   \n",
      "\n",
      "  activity-0:45 activity-0:40 activity-0:35 activity-0:30 activity-0:25  \\\n",
      "0           NaN           NaN           NaN           NaN           NaN   \n",
      "1           NaN           NaN           NaN           NaN           NaN   \n",
      "2           NaN           NaN           NaN           NaN           NaN   \n",
      "3           NaN           NaN           NaN           NaN           NaN   \n",
      "4           NaN           NaN           NaN           NaN           NaN   \n",
      "\n",
      "  activity-0:20 activity-0:15 activity-0:10 activity-0:05 activity-0:00  \n",
      "0           NaN           NaN           NaN           NaN           NaN  \n",
      "1           NaN           NaN           NaN           NaN           NaN  \n",
      "2           NaN           NaN           NaN           NaN           NaN  \n",
      "3           NaN           NaN           NaN           NaN           NaN  \n",
      "4           NaN           NaN           NaN           NaN           NaN  \n",
      "\n",
      "[5 rows x 72 columns]\n"
     ]
    }
   ],
   "source": [
    "act_cols = [col for col in train.columns if 'activity' in col]\n",
    "print(act_cols)\n",
    "\n",
    "print(train[act_cols].describe())\n",
    "print(train[act_cols].head())\n"
   ]
  },
  {
   "cell_type": "code",
   "execution_count": 17,
   "metadata": {},
   "outputs": [
    {
     "name": "stdout",
     "output_type": "stream",
     "text": [
      "{'Indoor climbing': 2, 'Run': 3, 'Strength training': 2, 'Swim': 3, 'Bike': 3, 'Dancing': 2, 'Stairclimber': 2, 'Spinning': 2, 'Walking': 1, 'HIIT': 3, 'Outdoor Bike': 3, 'Walk': 1, 'Aerobic Workout': 1, 'Tennis': 3, 'Workout': 3, 'Hike': 2, 'Zumba': 2, 'Sport': 2, 'Yoga': 1, 'Swimming': 3, 'Weights': 3, 'Running': 3, 'NaN': 0}\n"
     ]
    },
    {
     "name": "stderr",
     "output_type": "stream",
     "text": [
      "/tmp/ipykernel_402595/3114082254.py:73: FutureWarning: DataFrame.applymap has been deprecated. Use DataFrame.map instead.\n",
      "  train[act_cols] = train[act_cols].applymap(lambda x: activity_mapping3.get(x, 0))\n"
     ]
    }
   ],
   "source": [
    "import pandas as pd\n",
    "from sklearn.preprocessing import LabelEncoder\n",
    "import numpy as np\n",
    "\n",
    "# List of activities\n",
    "activities = ['Indoor climbing', 'Run', 'Strength training', 'Swim', 'Bike', \n",
    "              'Dancing', 'Stairclimber', 'Spinning', 'Walking', 'HIIT', \n",
    "              'Outdoor Bike', 'Walk', 'Aerobic Workout', 'Tennis', 'Workout', \n",
    "              'Hike', 'Zumba', 'Sport', 'Yoga', 'Swimming', 'Weights', 'Running']\n",
    "\n",
    "# Create a dictionary mapping each activity to a unique number\n",
    "activity_mapping = {activity: idx + 1 for idx, activity in enumerate(activities)}\n",
    "activity_mapping[np.nan] = 0  # Map NaN to 0\n",
    "activity_mapping['NaN'] = 0    # Handle string 'NaN' as well\n",
    "\n",
    "# activity_mapping = {'Indoor climbing': 1,'Run': 2, 'Strength training': 3,'Swim': 4, 'Bike': 5, 'Dancing': 6,  'Stairclimber': 7, 'Spinning': 8,  'Walking': 9,  'HIIT': 10, 'Outdoor Bike': 11, \n",
    "#                     'Walk': 12,   'Aerobic Workout': 13,   'Tennis': 14,  'Workout': 15,    'Hike': 16,   'Zumba': 17, 'Sport': 18,  'Yoga': 19,  'Swimming': 20,  'Weights': 21,  'Running': 22,  nan: 0, 'NaN': 0}\n",
    "\n",
    "# activity mapping, adjusted : I gather some sports in the same category, to simplify the model, like run = running\n",
    "activity_mapping2 = {'Indoor climbing': 1, \n",
    "                    'Run': 2, \n",
    "                    'Strength training': 3, \n",
    "                    'Swim': 4, \n",
    "                    'Bike': 5, \n",
    "                    'Dancing': 6, \n",
    "                    'Stairclimber': 7, \n",
    "                    'Spinning': 8, \n",
    "                    'Walking': 9, \n",
    "                    'HIIT': 10, \n",
    "                    'Outdoor Bike': 5, \n",
    "                    'Walk': 9, \n",
    "                    'Aerobic Workout': 6, \n",
    "                    'Tennis': 11, \n",
    "                    'Workout': 3, \n",
    "                    'Hike': 12, \n",
    "                    'Zumba': 6, \n",
    "                    'Sport': 13, \n",
    "                    'Yoga': 14, \n",
    "                    'Swimming': 4, \n",
    "                    'Weights': 3, \n",
    "                    'Running': 2,\n",
    "                    'NaN': 0} # no activity reported. \n",
    "\n",
    "# harsher regroupment of activity, depending on intensity : 0 : nothing/not reported, 1 : minor, 2 : medium, 3 : intense\n",
    "activity_mapping3 = {'Indoor climbing': 2, \n",
    "                    'Run': 3, \n",
    "                    'Strength training': 2, \n",
    "                    'Swim': 3, \n",
    "                    'Bike': 3, \n",
    "                    'Dancing': 2, \n",
    "                    'Stairclimber': 2, \n",
    "                    'Spinning': 2, \n",
    "                    'Walking': 1, \n",
    "                    'HIIT': 3, \n",
    "                    'Outdoor Bike': 3, \n",
    "                    'Walk': 1, \n",
    "                    'Aerobic Workout': 1, \n",
    "                    'Tennis': 3, \n",
    "                    'Workout': 3, \n",
    "                    'Hike': 2, \n",
    "                    'Zumba': 2, \n",
    "                    'Sport': 2, \n",
    "                    'Yoga': 1, \n",
    "                    'Swimming': 3, \n",
    "                    'Weights': 3, \n",
    "                    'Running': 3,\n",
    "                    'NaN': 0} # no activity reported.                     \n",
    "\n",
    "\n",
    "print(activity_mapping3)\n",
    "\n",
    "# Apply the mapping to the DataFrame\n",
    "train[act_cols] = train[act_cols].applymap(lambda x: activity_mapping3.get(x, 0))\n",
    "\n",
    "# Convert into factor\n",
    "train[act_cols] = train[act_cols].astype('category')\n"
   ]
  },
  {
   "cell_type": "code",
   "execution_count": 18,
   "metadata": {},
   "outputs": [
    {
     "name": "stdout",
     "output_type": "stream",
     "text": [
      "activity-5:55    0\n",
      "activity-5:50    0\n",
      "activity-5:45    0\n",
      "activity-5:40    0\n",
      "activity-5:35    0\n",
      "                ..\n",
      "activity-0:20    0\n",
      "activity-0:15    0\n",
      "activity-0:10    0\n",
      "activity-0:05    0\n",
      "activity-0:00    0\n",
      "Length: 72, dtype: int64\n"
     ]
    }
   ],
   "source": [
    "train[act_cols].describe()\n",
    "print(train[act_cols].isnull().sum())"
   ]
  },
  {
   "cell_type": "markdown",
   "metadata": {},
   "source": [
    "### Drop heart rate columns because they have too many empty values"
   ]
  },
  {
   "cell_type": "code",
   "execution_count": 19,
   "metadata": {},
   "outputs": [
    {
     "name": "stdout",
     "output_type": "stream",
     "text": [
      "(167659, 508)\n",
      "(167659, 436)\n"
     ]
    }
   ],
   "source": [
    "print(train.shape)\n",
    "hr_cols = [col for col in train.columns if 'hr' in col]\n",
    "\n",
    "train = train.drop(columns=hr_cols)\n",
    "print(train.shape)\n"
   ]
  },
  {
   "cell_type": "markdown",
   "metadata": {},
   "source": [
    "### Convert p_num to factor, but num"
   ]
  },
  {
   "cell_type": "code",
   "execution_count": 20,
   "metadata": {},
   "outputs": [],
   "source": [
    "train[\"p_num\"] = train[\"p_num\"].astype('category')"
   ]
  },
  {
   "cell_type": "code",
   "execution_count": 21,
   "metadata": {},
   "outputs": [
    {
     "data": {
      "text/plain": [
       "CategoricalDtype(categories=['p01', 'p02', 'p03', 'p04', 'p05', 'p06', 'p10', 'p11',\n",
       "                  'p12'],\n",
       ", ordered=False, categories_dtype=object)"
      ]
     },
     "execution_count": 21,
     "metadata": {},
     "output_type": "execute_result"
    }
   ],
   "source": [
    "# check\n",
    "train[\"p_num\"].describe()\n",
    "train[\"p_num\"].dtype"
   ]
  },
  {
   "cell_type": "markdown",
   "metadata": {},
   "source": [
    "### Convert time to readable format"
   ]
  },
  {
   "cell_type": "code",
   "execution_count": 22,
   "metadata": {},
   "outputs": [
    {
     "name": "stderr",
     "output_type": "stream",
     "text": [
      "/tmp/ipykernel_402595/3567419781.py:5: PerformanceWarning: DataFrame is highly fragmented.  This is usually the result of calling `frame.insert` many times, which has poor performance.  Consider joining all columns at once using pd.concat(axis=1) instead. To get a de-fragmented frame, use `newframe = frame.copy()`\n",
      "  train['hour'] = train.time.dt.hour\n",
      "/tmp/ipykernel_402595/3567419781.py:6: PerformanceWarning: DataFrame is highly fragmented.  This is usually the result of calling `frame.insert` many times, which has poor performance.  Consider joining all columns at once using pd.concat(axis=1) instead. To get a de-fragmented frame, use `newframe = frame.copy()`\n",
      "  test['hour'] = test.time.dt.hour\n",
      "/tmp/ipykernel_402595/3567419781.py:8: PerformanceWarning: DataFrame is highly fragmented.  This is usually the result of calling `frame.insert` many times, which has poor performance.  Consider joining all columns at once using pd.concat(axis=1) instead. To get a de-fragmented frame, use `newframe = frame.copy()`\n",
      "  train['time_min'] = train['time'].dt.hour * 60 + train['time'].dt.minute\n",
      "/tmp/ipykernel_402595/3567419781.py:9: PerformanceWarning: DataFrame is highly fragmented.  This is usually the result of calling `frame.insert` many times, which has poor performance.  Consider joining all columns at once using pd.concat(axis=1) instead. To get a de-fragmented frame, use `newframe = frame.copy()`\n",
      "  test['time_min'] = test['time'].dt.hour * 60 + test['time'].dt.minute\n",
      "/tmp/ipykernel_402595/3567419781.py:11: PerformanceWarning: DataFrame is highly fragmented.  This is usually the result of calling `frame.insert` many times, which has poor performance.  Consider joining all columns at once using pd.concat(axis=1) instead. To get a de-fragmented frame, use `newframe = frame.copy()`\n",
      "  train['sin_time'] = np.sin(2 * np.pi * train['time_min'] / 1440)\n",
      "/tmp/ipykernel_402595/3567419781.py:12: PerformanceWarning: DataFrame is highly fragmented.  This is usually the result of calling `frame.insert` many times, which has poor performance.  Consider joining all columns at once using pd.concat(axis=1) instead. To get a de-fragmented frame, use `newframe = frame.copy()`\n",
      "  train['cos_time'] = np.cos(2 * np.pi * train['time_min'] / 1440)\n",
      "/tmp/ipykernel_402595/3567419781.py:14: PerformanceWarning: DataFrame is highly fragmented.  This is usually the result of calling `frame.insert` many times, which has poor performance.  Consider joining all columns at once using pd.concat(axis=1) instead. To get a de-fragmented frame, use `newframe = frame.copy()`\n",
      "  test['sin_time'] = np.sin(2 * np.pi * test['time_min'] / 1440)\n",
      "/tmp/ipykernel_402595/3567419781.py:15: PerformanceWarning: DataFrame is highly fragmented.  This is usually the result of calling `frame.insert` many times, which has poor performance.  Consider joining all columns at once using pd.concat(axis=1) instead. To get a de-fragmented frame, use `newframe = frame.copy()`\n",
      "  test['cos_time'] = np.cos(2 * np.pi * test['time_min'] / 1440)\n"
     ]
    }
   ],
   "source": [
    "# date conversion\n",
    "train.time = pd.to_datetime(train.time, format='%H:%M:%S')\n",
    "test.time = pd.to_datetime(test.time, format='%H:%M:%S')\n",
    "\n",
    "train['hour'] = train.time.dt.hour\n",
    "test['hour'] = test.time.dt.hour\n",
    "\n",
    "train['time_min'] = train['time'].dt.hour * 60 + train['time'].dt.minute\n",
    "test['time_min'] = test['time'].dt.hour * 60 + test['time'].dt.minute\n",
    "\n",
    "train['sin_time'] = np.sin(2 * np.pi * train['time_min'] / 1440)\n",
    "train['cos_time'] = np.cos(2 * np.pi * train['time_min'] / 1440)\n",
    "\n",
    "test['sin_time'] = np.sin(2 * np.pi * test['time_min'] / 1440)\n",
    "test['cos_time'] = np.cos(2 * np.pi * test['time_min'] / 1440)"
   ]
  },
  {
   "cell_type": "markdown",
   "metadata": {},
   "source": [
    "### Final check de l'imputation et de la taille du dataset de train"
   ]
  },
  {
   "cell_type": "code",
   "execution_count": 23,
   "metadata": {},
   "outputs": [
    {
     "name": "stdout",
     "output_type": "stream",
     "text": [
      "(167659, 440)\n",
      "0\n"
     ]
    }
   ],
   "source": [
    "print(train.shape)\n",
    "print(train.isna().sum().sum())"
   ]
  },
  {
   "cell_type": "code",
   "execution_count": 52,
   "metadata": {},
   "outputs": [
    {
     "name": "stdout",
     "output_type": "stream",
     "text": [
      "['id' 'p_num' 'time' 'bg-5:55' 'bg-5:50' 'bg-5:45' 'bg-5:40' 'bg-5:35'\n",
      " 'bg-5:30' 'bg-5:25' 'bg-5:20' 'bg-5:15' 'bg-5:10' 'bg-5:05' 'bg-5:00'\n",
      " 'bg-4:55' 'bg-4:50' 'bg-4:45' 'bg-4:40' 'bg-4:35' 'bg-4:30' 'bg-4:25'\n",
      " 'bg-4:20' 'bg-4:15' 'bg-4:10' 'bg-4:05' 'bg-4:00' 'bg-3:55' 'bg-3:50'\n",
      " 'bg-3:45' 'bg-3:40' 'bg-3:35' 'bg-3:30' 'bg-3:25' 'bg-3:20' 'bg-3:15'\n",
      " 'bg-3:10' 'bg-3:05' 'bg-3:00' 'bg-2:55' 'bg-2:50' 'bg-2:45' 'bg-2:40'\n",
      " 'bg-2:35' 'bg-2:30' 'bg-2:25' 'bg-2:20' 'bg-2:15' 'bg-2:10' 'bg-2:05'\n",
      " 'bg-2:00' 'bg-1:55' 'bg-1:50' 'bg-1:45' 'bg-1:40' 'bg-1:35' 'bg-1:30'\n",
      " 'bg-1:25' 'bg-1:20' 'bg-1:15' 'bg-1:10' 'bg-1:05' 'bg-1:00' 'bg-0:55'\n",
      " 'bg-0:50' 'bg-0:45' 'bg-0:40' 'bg-0:35' 'bg-0:30' 'bg-0:25' 'bg-0:20'\n",
      " 'bg-0:15' 'bg-0:10' 'bg-0:05' 'bg-0:00' 'insulin-5:55' 'insulin-5:50'\n",
      " 'insulin-5:45' 'insulin-5:40' 'insulin-5:35' 'insulin-5:30'\n",
      " 'insulin-5:25' 'insulin-5:20' 'insulin-5:15' 'insulin-5:10'\n",
      " 'insulin-5:05' 'insulin-5:00' 'insulin-4:55' 'insulin-4:50'\n",
      " 'insulin-4:45' 'insulin-4:40' 'insulin-4:35' 'insulin-4:30'\n",
      " 'insulin-4:25' 'insulin-4:20' 'insulin-4:15' 'insulin-4:10'\n",
      " 'insulin-4:05' 'insulin-4:00' 'insulin-3:55' 'insulin-3:50'\n",
      " 'insulin-3:45' 'insulin-3:40' 'insulin-3:35' 'insulin-3:30'\n",
      " 'insulin-3:25' 'insulin-3:20' 'insulin-3:15' 'insulin-3:10'\n",
      " 'insulin-3:05' 'insulin-3:00' 'insulin-2:55' 'insulin-2:50'\n",
      " 'insulin-2:45' 'insulin-2:40' 'insulin-2:35' 'insulin-2:30'\n",
      " 'insulin-2:25' 'insulin-2:20' 'insulin-2:15' 'insulin-2:10'\n",
      " 'insulin-2:05' 'insulin-2:00' 'insulin-1:55' 'insulin-1:50'\n",
      " 'insulin-1:45' 'insulin-1:40' 'insulin-1:35' 'insulin-1:30'\n",
      " 'insulin-1:25' 'insulin-1:20' 'insulin-1:15' 'insulin-1:10'\n",
      " 'insulin-1:05' 'insulin-1:00' 'insulin-0:55' 'insulin-0:50'\n",
      " 'insulin-0:45' 'insulin-0:40' 'insulin-0:35' 'insulin-0:30'\n",
      " 'insulin-0:25' 'insulin-0:20' 'insulin-0:15' 'insulin-0:10'\n",
      " 'insulin-0:05' 'insulin-0:00' 'carbs-5:55' 'carbs-5:50' 'carbs-5:45'\n",
      " 'carbs-5:40' 'carbs-5:35' 'carbs-5:30' 'carbs-5:25' 'carbs-5:20'\n",
      " 'carbs-5:15' 'carbs-5:10' 'carbs-5:05' 'carbs-5:00' 'carbs-4:55'\n",
      " 'carbs-4:50' 'carbs-4:45' 'carbs-4:40' 'carbs-4:35' 'carbs-4:30'\n",
      " 'carbs-4:25' 'carbs-4:20' 'carbs-4:15' 'carbs-4:10' 'carbs-4:05'\n",
      " 'carbs-4:00' 'carbs-3:55' 'carbs-3:50' 'carbs-3:45' 'carbs-3:40'\n",
      " 'carbs-3:35' 'carbs-3:30' 'carbs-3:25' 'carbs-3:20' 'carbs-3:15'\n",
      " 'carbs-3:10' 'carbs-3:05' 'carbs-3:00' 'carbs-2:55' 'carbs-2:50'\n",
      " 'carbs-2:45' 'carbs-2:40' 'carbs-2:35' 'carbs-2:30' 'carbs-2:25'\n",
      " 'carbs-2:20' 'carbs-2:15' 'carbs-2:10' 'carbs-2:05' 'carbs-2:00'\n",
      " 'carbs-1:55' 'carbs-1:50' 'carbs-1:45' 'carbs-1:40' 'carbs-1:35'\n",
      " 'carbs-1:30' 'carbs-1:25' 'carbs-1:20' 'carbs-1:15' 'carbs-1:10'\n",
      " 'carbs-1:05' 'carbs-1:00' 'carbs-0:55' 'carbs-0:50' 'carbs-0:45'\n",
      " 'carbs-0:40' 'carbs-0:35' 'carbs-0:30' 'carbs-0:25' 'carbs-0:20'\n",
      " 'carbs-0:15' 'carbs-0:10' 'carbs-0:05' 'carbs-0:00' 'steps-5:55'\n",
      " 'steps-5:50' 'steps-5:45' 'steps-5:40' 'steps-5:35' 'steps-5:30'\n",
      " 'steps-5:25' 'steps-5:20' 'steps-5:15' 'steps-5:10' 'steps-5:05'\n",
      " 'steps-5:00' 'steps-4:55' 'steps-4:50' 'steps-4:45' 'steps-4:40'\n",
      " 'steps-4:35' 'steps-4:30' 'steps-4:25' 'steps-4:20' 'steps-4:15'\n",
      " 'steps-4:10' 'steps-4:05' 'steps-4:00' 'steps-3:55' 'steps-3:50'\n",
      " 'steps-3:45' 'steps-3:40' 'steps-3:35' 'steps-3:30' 'steps-3:25'\n",
      " 'steps-3:20' 'steps-3:15' 'steps-3:10' 'steps-3:05' 'steps-3:00'\n",
      " 'steps-2:55' 'steps-2:50' 'steps-2:45' 'steps-2:40' 'steps-2:35'\n",
      " 'steps-2:30' 'steps-2:25' 'steps-2:20' 'steps-2:15' 'steps-2:10'\n",
      " 'steps-2:05' 'steps-2:00' 'steps-1:55' 'steps-1:50' 'steps-1:45'\n",
      " 'steps-1:40' 'steps-1:35' 'steps-1:30' 'steps-1:25' 'steps-1:20'\n",
      " 'steps-1:15' 'steps-1:10' 'steps-1:05' 'steps-1:00' 'steps-0:55'\n",
      " 'steps-0:50' 'steps-0:45' 'steps-0:40' 'steps-0:35' 'steps-0:30'\n",
      " 'steps-0:25' 'steps-0:20' 'steps-0:15' 'steps-0:10' 'steps-0:05'\n",
      " 'steps-0:00' 'cals-5:55' 'cals-5:50' 'cals-5:45' 'cals-5:40' 'cals-5:35'\n",
      " 'cals-5:30' 'cals-5:25' 'cals-5:20' 'cals-5:15' 'cals-5:10' 'cals-5:05'\n",
      " 'cals-5:00' 'cals-4:55' 'cals-4:50' 'cals-4:45' 'cals-4:40' 'cals-4:35'\n",
      " 'cals-4:30' 'cals-4:25' 'cals-4:20' 'cals-4:15' 'cals-4:10' 'cals-4:05'\n",
      " 'cals-4:00' 'cals-3:55' 'cals-3:50' 'cals-3:45' 'cals-3:40' 'cals-3:35'\n",
      " 'cals-3:30' 'cals-3:25' 'cals-3:20' 'cals-3:15' 'cals-3:10' 'cals-3:05'\n",
      " 'cals-3:00' 'cals-2:55' 'cals-2:50' 'cals-2:45' 'cals-2:40' 'cals-2:35'\n",
      " 'cals-2:30' 'cals-2:25' 'cals-2:20' 'cals-2:15' 'cals-2:10' 'cals-2:05'\n",
      " 'cals-2:00' 'cals-1:55' 'cals-1:50' 'cals-1:45' 'cals-1:40' 'cals-1:35'\n",
      " 'cals-1:30' 'cals-1:25' 'cals-1:20' 'cals-1:15' 'cals-1:10' 'cals-1:05'\n",
      " 'cals-1:00' 'cals-0:55' 'cals-0:50' 'cals-0:45' 'cals-0:40' 'cals-0:35'\n",
      " 'cals-0:30' 'cals-0:25' 'cals-0:20' 'cals-0:15' 'cals-0:10' 'cals-0:05'\n",
      " 'cals-0:00' 'activity-5:55' 'activity-5:50' 'activity-5:45'\n",
      " 'activity-5:40' 'activity-5:35' 'activity-5:30' 'activity-5:25'\n",
      " 'activity-5:20' 'activity-5:15' 'activity-5:10' 'activity-5:05'\n",
      " 'activity-5:00' 'activity-4:55' 'activity-4:50' 'activity-4:45'\n",
      " 'activity-4:40' 'activity-4:35' 'activity-4:30' 'activity-4:25'\n",
      " 'activity-4:20' 'activity-4:15' 'activity-4:10' 'activity-4:05'\n",
      " 'activity-4:00' 'activity-3:55' 'activity-3:50' 'activity-3:45'\n",
      " 'activity-3:40' 'activity-3:35' 'activity-3:30' 'activity-3:25'\n",
      " 'activity-3:20' 'activity-3:15' 'activity-3:10' 'activity-3:05'\n",
      " 'activity-3:00' 'activity-2:55' 'activity-2:50' 'activity-2:45'\n",
      " 'activity-2:40' 'activity-2:35' 'activity-2:30' 'activity-2:25'\n",
      " 'activity-2:20' 'activity-2:15' 'activity-2:10' 'activity-2:05'\n",
      " 'activity-2:00' 'activity-1:55' 'activity-1:50' 'activity-1:45'\n",
      " 'activity-1:40' 'activity-1:35' 'activity-1:30' 'activity-1:25'\n",
      " 'activity-1:20' 'activity-1:15' 'activity-1:10' 'activity-1:05'\n",
      " 'activity-1:00' 'activity-0:55' 'activity-0:50' 'activity-0:45'\n",
      " 'activity-0:40' 'activity-0:35' 'activity-0:30' 'activity-0:25'\n",
      " 'activity-0:20' 'activity-0:15' 'activity-0:10' 'activity-0:05'\n",
      " 'activity-0:00' 'bg+1:00' 'hour' 'time_min' 'sin_time' 'cos_time']\n"
     ]
    }
   ],
   "source": [
    "print(train.columns.values)"
   ]
  },
  {
   "cell_type": "markdown",
   "metadata": {},
   "source": [
    "### Correlation entre les variables"
   ]
  },
  {
   "cell_type": "code",
   "execution_count": 56,
   "metadata": {},
   "outputs": [
    {
     "name": "stdout",
     "output_type": "stream",
     "text": [
      "                bg-5:55   bg-5:50   bg-5:45   bg-5:40   bg-5:35   bg-5:30  \\\n",
      "bg-5:55        1.000000  0.994357  0.981336  0.962672  0.939768  0.914370   \n",
      "bg-5:50        0.994357  1.000000  0.994028  0.979957  0.959910  0.936243   \n",
      "bg-5:45        0.981336  0.994028  1.000000  0.993611  0.978742  0.958324   \n",
      "bg-5:40        0.962672  0.979957  0.993611  1.000000  0.993606  0.978947   \n",
      "bg-5:35        0.939768  0.959910  0.978742  0.993606  1.000000  0.993613   \n",
      "...                 ...       ...       ...       ...       ...       ...   \n",
      "activity-0:10 -0.020506 -0.020080 -0.019820 -0.019567 -0.019215 -0.018908   \n",
      "activity-0:05 -0.020007 -0.019576 -0.019105 -0.018713 -0.018312 -0.017957   \n",
      "activity-0:00 -0.019693 -0.019359 -0.018918 -0.018407 -0.017942 -0.017622   \n",
      "sin_time       0.110409  0.108448  0.106516  0.104798  0.102898  0.101014   \n",
      "cos_time       0.078538  0.080513  0.082506  0.084685  0.086711  0.088712   \n",
      "\n",
      "                bg-5:25   bg-5:20   bg-5:15   bg-5:10  ...  activity-0:35  \\\n",
      "bg-5:55        0.887224  0.858279  0.829272  0.801027  ...      -0.017135   \n",
      "bg-5:50        0.910253  0.881843  0.852929  0.824408  ...      -0.016586   \n",
      "bg-5:45        0.934464  0.907539  0.879262  0.850944  ...      -0.016297   \n",
      "bg-5:40        0.958848  0.934500  0.907920  0.880375  ...      -0.016148   \n",
      "bg-5:35        0.979019  0.958436  0.934209  0.908064  ...      -0.016173   \n",
      "...                 ...       ...       ...       ...  ...            ...   \n",
      "activity-0:10 -0.018535 -0.018329 -0.018234 -0.018292  ...       0.411684   \n",
      "activity-0:05 -0.017617 -0.017140 -0.016880 -0.016767  ...       0.349492   \n",
      "activity-0:00 -0.017289 -0.016926 -0.016534 -0.016386  ...       0.298381   \n",
      "sin_time       0.099187  0.097191  0.095178  0.093208  ...      -0.084351   \n",
      "cos_time       0.090812  0.092743  0.094653  0.096698  ...      -0.012576   \n",
      "\n",
      "               activity-0:30  activity-0:25  activity-0:20  activity-0:15  \\\n",
      "bg-5:55            -0.017778      -0.019526      -0.018714      -0.019213   \n",
      "bg-5:50            -0.017353      -0.019135      -0.018409      -0.018858   \n",
      "bg-5:45            -0.016971      -0.018893      -0.018109      -0.018609   \n",
      "bg-5:40            -0.016749      -0.018524      -0.017760      -0.018234   \n",
      "bg-5:35            -0.016662      -0.018298      -0.017250      -0.017803   \n",
      "...                      ...            ...            ...            ...   \n",
      "activity-0:10       0.489370       0.600194       0.729328       0.862197   \n",
      "activity-0:05       0.411376       0.494033       0.604313       0.729836   \n",
      "activity-0:00       0.344379       0.409741       0.493764       0.600706   \n",
      "sin_time           -0.083495      -0.083465      -0.083599      -0.082850   \n",
      "cos_time           -0.013298      -0.014951      -0.017745      -0.018360   \n",
      "\n",
      "               activity-0:10  activity-0:05  activity-0:00  sin_time  cos_time  \n",
      "bg-5:55            -0.020506      -0.020007      -0.019693  0.110409  0.078538  \n",
      "bg-5:50            -0.020080      -0.019576      -0.019359  0.108448  0.080513  \n",
      "bg-5:45            -0.019820      -0.019105      -0.018918  0.106516  0.082506  \n",
      "bg-5:40            -0.019567      -0.018713      -0.018407  0.104798  0.084685  \n",
      "bg-5:35            -0.019215      -0.018312      -0.017942  0.102898  0.086711  \n",
      "...                      ...            ...            ...       ...       ...  \n",
      "activity-0:10       1.000000       0.863779       0.729612 -0.082667 -0.020168  \n",
      "activity-0:05       0.863779       1.000000       0.863123 -0.082589 -0.022723  \n",
      "activity-0:00       0.729612       0.863123       1.000000 -0.081893 -0.023498  \n",
      "sin_time           -0.082667      -0.082589      -0.081893  1.000000  0.002518  \n",
      "cos_time           -0.020168      -0.022723      -0.023498  0.002518  1.000000  \n",
      "\n",
      "[434 rows x 434 columns]\n"
     ]
    }
   ],
   "source": [
    "corr = train.drop(columns=['bg+1:00', 'id', 'p_num', 'time', 'hour', \"time_min\" ]).corr()\n",
    "print(corr)"
   ]
  },
  {
   "cell_type": "markdown",
   "metadata": {},
   "source": [
    "# Random forest"
   ]
  },
  {
   "cell_type": "code",
   "execution_count": 24,
   "metadata": {},
   "outputs": [],
   "source": [
    "# Separation des descripteurs (features) et de la cible (target)\n",
    "X = train.drop(columns=['bg+1:00', 'id', 'p_num', 'time', 'hour', \"time_min\" ])  # Supprime les colonnes non pertinentes, on garde time pour l'instant car le moment de la journée pourrait etre important pour la valeur du bg\n",
    "y = train['bg+1:00']\n",
    "\n",
    "# Séparation en données d'entraînement et de test\n",
    "X_train, X_test, y_train, y_test = train_test_split(X, y, test_size=0.2, random_state=42)\n",
    "\n",
    "# Création du modèle de forêt aléatoire\n",
    "rf = RandomForestRegressor(n_estimators=100, random_state=42)"
   ]
  },
  {
   "cell_type": "markdown",
   "metadata": {},
   "source": [
    "## Entraînement du modèle"
   ]
  },
  {
   "cell_type": "code",
   "execution_count": 25,
   "metadata": {},
   "outputs": [],
   "source": [
    "def reset_seeds(seed = 42):\n",
    "   np.random.seed(seed) \n",
    "   python_random.seed(seed)\n",
    "   tf.random.set_seed(seed)"
   ]
  },
  {
   "cell_type": "code",
   "execution_count": 26,
   "metadata": {},
   "outputs": [],
   "source": [
    "reset_seeds()\n",
    "history = rf.fit(X_train, y_train)"
   ]
  },
  {
   "cell_type": "code",
   "execution_count": 45,
   "metadata": {},
   "outputs": [
    {
     "ename": "AttributeError",
     "evalue": "'RandomForestRegressor' object has no attribute 'summary'",
     "output_type": "error",
     "traceback": [
      "\u001b[0;31m---------------------------------------------------------------------------\u001b[0m",
      "\u001b[0;31mAttributeError\u001b[0m                            Traceback (most recent call last)",
      "Cell \u001b[0;32mIn[45], line 2\u001b[0m\n\u001b[1;32m      1\u001b[0m \u001b[38;5;66;03m# model summary\u001b[39;00m\n\u001b[0;32m----> 2\u001b[0m \u001b[43mrf\u001b[49m\u001b[38;5;241;43m.\u001b[39;49m\u001b[43msummary\u001b[49m\n",
      "\u001b[0;31mAttributeError\u001b[0m: 'RandomForestRegressor' object has no attribute 'summary'"
     ]
    }
   ],
   "source": [
    "# model summary\n",
    "rf.summary"
   ]
  },
  {
   "cell_type": "markdown",
   "metadata": {},
   "source": [
    "## Evaluation"
   ]
  },
  {
   "cell_type": "code",
   "execution_count": 27,
   "metadata": {},
   "outputs": [
    {
     "name": "stdout",
     "output_type": "stream",
     "text": [
      "Score R^2: 0.6870591289019672\n"
     ]
    }
   ],
   "source": [
    "score = rf.score(X_test, y_test)\n",
    "print(f'Score R^2: {score}')"
   ]
  },
  {
   "cell_type": "code",
   "execution_count": 50,
   "metadata": {},
   "outputs": [
    {
     "name": "stdout",
     "output_type": "stream",
     "text": [
      "[ 6.268  6.436 13.602  6.886  8.692  4.341  7.425 12.496  6.274  5.019\n",
      " 13.161  7.928  9.236 12.053  5.726  6.276  6.771  7.135  8.499  6.559\n",
      "  8.203  5.539  7.139  5.872  6.298  5.663 12.322  9.787  5.09   5.789\n",
      "  8.549  6.63  10.    12.714  5.726  5.797  9.307 11.15   9.125  6.571\n",
      " 14.994 11.873  6.441  7.01  11.042  5.164  9.218  5.333  5.852  6.761]\n",
      "tf.Tensor(0.3853885372221849, shape=(), dtype=float64)\n"
     ]
    },
    {
     "ename": "NameError",
     "evalue": "name 'rmse_train' is not defined",
     "output_type": "error",
     "traceback": [
      "\u001b[0;31m---------------------------------------------------------------------------\u001b[0m",
      "\u001b[0;31mNameError\u001b[0m                                 Traceback (most recent call last)",
      "Cell \u001b[0;32mIn[50], line 17\u001b[0m\n\u001b[1;32m      9\u001b[0m \u001b[38;5;66;03m# def root_mean_squared_error(y_true, y_pred):\u001b[39;00m\n\u001b[1;32m     10\u001b[0m \u001b[38;5;66;03m#         return K.sqrt(K.mean(K.square(y_pred - y_true)))\u001b[39;00m\n\u001b[1;32m     11\u001b[0m \n\u001b[1;32m     12\u001b[0m \u001b[38;5;66;03m# rmsd_train = root_mean_squared_error(y_train, y_train_pred)\u001b[39;00m\n\u001b[1;32m     13\u001b[0m \u001b[38;5;66;03m# rmse_test = root_mean_squared_error(y_test, y_test_pred)\u001b[39;00m\n\u001b[1;32m     15\u001b[0m \u001b[38;5;28mprint\u001b[39m(mean_squared_error(y_train, y_train_pred))\n\u001b[0;32m---> 17\u001b[0m \u001b[43mrmse_train\u001b[49m\n\u001b[1;32m     18\u001b[0m rmse_test\n",
      "\u001b[0;31mNameError\u001b[0m: name 'rmse_train' is not defined"
     ]
    }
   ],
   "source": [
    "import keras.backend as K\n",
    "from keras.losses import mean_squared_error\n",
    "\n",
    "y_train_pred = rf.predict(X_train)\n",
    "y_test_pred = rf.predict(X_test)\n",
    "\n",
    "print(y_train_pred[0:50])\n",
    "\n",
    "# def root_mean_squared_error(y_true, y_pred):\n",
    "#         return K.sqrt(K.mean(K.square(y_pred - y_true)))\n",
    "\n",
    "# rmsd_train = root_mean_squared_error(y_train, y_train_pred)\n",
    "# rmse_test = root_mean_squared_error(y_test, y_test_pred)\n",
    "\n",
    "rmse_train\n",
    "rmse_test\n",
    "\n"
   ]
  },
  {
   "cell_type": "code",
   "execution_count": 43,
   "metadata": {},
   "outputs": [
    {
     "data": {
      "image/png": "[encoded data removed]",
      "text/plain": [
       "<Figure size 640x480 with 1 Axes>"
      ]
     },
     "metadata": {},
     "output_type": "display_data"
    }
   ],
   "source": [
    "# check feature importance\n",
    "\n",
    "feature_names = [f\"feature {i}\" for i in range(X.shape[1])]\n",
    "forest_importances = pd.Series(rf.feature_importances_, index=feature_names)\n",
    "std = np.std([tree.feature_importances_ for tree in rf.estimators_], axis=0)\n",
    "\n",
    "fig, ax = plt.subplots()\n",
    "forest_importances.plot.bar(yerr=std, ax=ax)\n",
    "ax.set_title(\"Feature importances using MDI\")\n",
    "ax.set_ylabel(\"Mean decrease in impurity\")\n",
    "fig.tight_layout()\n"
   ]
  },
  {
   "cell_type": "code",
   "execution_count": null,
   "metadata": {},
   "outputs": [],
   "source": [
    "train.dtypes"
   ]
  }
 ],
 "metadata": {
  "kernelspec": {
   "display_name": "bioinfo",
   "language": "python",
   "name": "python3"
  },
  "language_info": {
   "codemirror_mode": {
    "name": "ipython",
    "version": 3
   },
   "file_extension": ".py",
   "mimetype": "text/x-python",
   "name": "python",
   "nbconvert_exporter": "python",
   "pygments_lexer": "ipython3",
   "version": "3.12.5"
  }
 },
 "nbformat": 4,
 "nbformat_minor": 2
}
